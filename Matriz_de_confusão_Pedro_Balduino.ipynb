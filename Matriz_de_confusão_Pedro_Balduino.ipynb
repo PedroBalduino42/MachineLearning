{
  "nbformat": 4,
  "nbformat_minor": 0,
  "metadata": {
    "colab": {
      "provenance": [],
      "authorship_tag": "ABX9TyMZWazWZlxT7rVj0YGHb0dn",
      "include_colab_link": true
    },
    "kernelspec": {
      "name": "python3",
      "display_name": "Python 3"
    },
    "language_info": {
      "name": "python"
    }
  },
  "cells": [
    {
      "cell_type": "markdown",
      "metadata": {
        "id": "view-in-github",
        "colab_type": "text"
      },
      "source": [
        "<a href=\"https://colab.research.google.com/github/PedroBalduino42/MachineLearning/blob/main/Matriz_de_confus%C3%A3o_Pedro_Balduino.ipynb\" target=\"_parent\"><img src=\"https://colab.research.google.com/assets/colab-badge.svg\" alt=\"Open In Colab\"/></a>"
      ]
    },
    {
      "cell_type": "code",
      "execution_count": 7,
      "metadata": {
        "colab": {
          "base_uri": "https://localhost:8080/",
          "height": 504
        },
        "id": "E5GlG8hdghRH",
        "outputId": "f63a862b-3c8d-4cb0-ee4b-f626d0d749df"
      },
      "outputs": [
        {
          "output_type": "display_data",
          "data": {
            "text/plain": [
              "<Figure size 640x480 with 2 Axes>"
            ],
            "image/png": "[encoded data removed]"
          },
          "metadata": {}
        },
        {
          "output_type": "stream",
          "name": "stdout",
          "text": [
            "Acurácia: 0.7\n",
            "Precisão: 0.75\n",
            "Recall (Sensibilidade): 0.6\n",
            "F1-score: 0.6666666666666666\n"
          ]
        }
      ],
      "source": [
        "import numpy as np\n",
        "import matplotlib.pyplot as plt\n",
        "import seaborn as sns # You need to import seaborn explicitly\n",
        "from sklearn.metrics import confusion_matrix, accuracy_score, precision_score, recall_score, f1_score\n",
        "\n",
        "# Dados de exemplo (substitua pelos seus dados reais)\n",
        "y_true = [0, 1, 0, 1, 0, 0, 1, 1, 0, 1]  # Rótulos verdadeiros\n",
        "y_pred = [0, 0, 0, 1, 1, 0, 1, 1, 0, 0]  # Rótulos preditos\n",
        "\n",
        "# Calcula a matriz de confusão\n",
        "cm = confusion_matrix(y_true, y_pred)\n",
        "\n",
        "plt.figure()\n",
        "\n",
        "# Pass the confusion matrix 'cm' to the heatmap function\n",
        "sns.heatmap(cm)\n",
        "\n",
        "plt.show() # Add this to display the plot\n",
        "\n",
        "# Calcula a acurácia\n",
        "accuracy = accuracy_score(y_true, y_pred)\n",
        "print(f\"Acurácia: {accuracy}\")\n",
        "\n",
        "# Calcula a precisão\n",
        "precision = precision_score(y_true, y_pred)\n",
        "print(f\"Precisão: {precision}\")\n",
        "\n",
        "# Calcula o recall (sensibilidade)\n",
        "recall = recall_score(y_true, y_pred)\n",
        "print(f\"Recall (Sensibilidade): {recall}\")\n",
        "\n",
        "# Calcula o F1-score\n",
        "f1 = f1_score(y_true, y_pred)\n",
        "print(f\"F1-score: {f1}\")\n",
        "\n",
        "# Calcula a especificidade\n",
        "tn, fp, fn, tp = confusion_matrix(y_true, y_pred).ravel()\n",
        "specificity = tn / (tn + fp)"
      ]
    }
  ]
}