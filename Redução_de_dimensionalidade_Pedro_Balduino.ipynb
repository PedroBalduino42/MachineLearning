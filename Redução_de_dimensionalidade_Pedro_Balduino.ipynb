{
  "nbformat": 4,
  "nbformat_minor": 0,
  "metadata": {
    "colab": {
      "provenance": [],
      "authorship_tag": "ABX9TyMEjEHcrWO3kAKYqMeFEc0P",
      "include_colab_link": true
    },
    "kernelspec": {
      "name": "python3",
      "display_name": "Python 3"
    },
    "language_info": {
      "name": "python"
    }
  },
  "cells": [
    {
      "cell_type": "markdown",
      "metadata": {
        "id": "view-in-github",
        "colab_type": "text"
      },
      "source": [
        "<a href=\"https://colab.research.google.com/github/PedroBalduino42/MachineLearning/blob/main/Redu%C3%A7%C3%A3o_de_dimensionalidade_Pedro_Balduino.ipynb\" target=\"_parent\"><img src=\"https://colab.research.google.com/assets/colab-badge.svg\" alt=\"Open In Colab\"/></a>"
      ]
    },
    {
      "cell_type": "code",
      "execution_count": 2,
      "metadata": {
        "colab": {
          "base_uri": "https://localhost:8080/"
        },
        "id": "9w-nMYyFcvwF",
        "outputId": "117f00b0-4b9f-4f72-9fec-53231fe2dc7d"
      },
      "outputs": [
        {
          "output_type": "stream",
          "name": "stdout",
          "text": [
            "As imagens foram convertidas e salvas com sucesso.\n"
          ]
        }
      ],
      "source": [
        "from PIL import Image\n",
        "import requests\n",
        "import numpy as np\n",
        "\n",
        "# Carregar a imagem de um URL (a imagem do exemplo é a logo do Google)\n",
        "url = \"https://www.google.com/images/branding/googlelogo/2x/googlelogo_color_272x92dp.png\"\n",
        "response = requests.get(url, stream=True)\n",
        "response.raise_for_status()  # Verificar se o download foi bem-sucedido\n",
        "image = Image.open(response.raw)\n",
        "\n",
        "\n",
        "# Converter a imagem para níveis de cinza\n",
        "gray_image = image.convert(\"L\")\n",
        "\n",
        "# Salvar a imagem em níveis de cinza\n",
        "gray_image.save(\"gray_image.jpg\")\n",
        "\n",
        "# Converter a imagem em níveis de cinza para binarizada (preto e branco)\n",
        "threshold = 128\n",
        "binary_image = gray_image.point(lambda p: 255 if p > threshold else 0)\n",
        "\n",
        "# Salvar a imagem binarizada\n",
        "binary_image.save(\"binary_image.jpg\")\n",
        "\n",
        "print(\"As imagens foram convertidas e salvas com sucesso.\")"
      ]
    }
  ]
}